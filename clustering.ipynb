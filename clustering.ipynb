{
 "cells": [
  {
   "cell_type": "markdown",
   "metadata": {},
   "source": [
    "# Dataprep"
   ]
  },
  {
   "cell_type": "code",
   "execution_count": null,
   "metadata": {
    "collapsed": true
   },
   "outputs": [],
   "source": [
    "n jobs"
   ]
  },
  {
   "cell_type": "markdown",
   "metadata": {},
   "source": [
    "### Load data"
   ]
  },
  {
   "cell_type": "code",
   "execution_count": 40,
   "metadata": {
    "collapsed": true
   },
   "outputs": [],
   "source": [
    "import pandas as pd\n",
    "import numpy as np\n",
    "import matplotlib.pyplot as plt"
   ]
  },
  {
   "cell_type": "code",
   "execution_count": 41,
   "metadata": {},
   "outputs": [],
   "source": [
    "from os import listdir\n",
    "from os.path import isfile, join\n",
    "mypath = \"data/parsed/\"\n",
    "onlyfiles = [f for f in listdir(mypath) if isfile(join(mypath, f))]"
   ]
  },
  {
   "cell_type": "code",
   "execution_count": 42,
   "metadata": {},
   "outputs": [
    {
     "data": {
      "text/plain": [
       "array([array([-0.01374749,  0.08589474, -0.89842469, ..., -0.30054307,\n",
       "       -0.92611587,  0.28873625]),\n",
       "       array([ 0.96793348,  0.08589474,  0.36325884, ..., -0.33862054,\n",
       "       -0.4513633 , -0.96548128]),\n",
       "       array([-0.3098301 ,  0.08589474, -0.07333611, ...,  0.33576477,\n",
       "       -0.70888615,  0.58441907]),\n",
       "       array([ 0.35198829,  0.08589474,  0.55426872, ..., -0.80775893,\n",
       "       -0.91561019, -0.26483309]),\n",
       "       array([ 0.53342199,  0.08589474, -0.07333611, ..., -0.22735733,\n",
       "        0.96067524, -0.44441256]),\n",
       "       array([-0.95813423,  0.08589474, -0.07333611, ...,  0.97271168,\n",
       "       -0.58751982, -0.7682054 ]),\n",
       "       array([-0.35715196,  0.08589474,  0.07990979, ..., -0.82186961,\n",
       "        0.79038155, -0.80820262]),\n",
       "       array([ 0.39521933,  0.08589474, -0.07333611, ..., -0.7515924 ,\n",
       "        0.96398902, -0.7996912 ]),\n",
       "       array([-0.35715196,  0.08589474, -0.01602338, ..., -0.70499218,\n",
       "        0.79038155, -0.80820262]),\n",
       "       array([ 0.54227006,  0.08589474, -0.90270746, ...,  0.0855961 ,\n",
       "       -0.95182139,  0.7129072 ])], dtype=object)"
      ]
     },
     "execution_count": 42,
     "metadata": {},
     "output_type": "execute_result"
    }
   ],
   "source": [
    "books_data = np.array([np.loadtxt(mypath+file) for file in onlyfiles])   \n",
    "books_data[:10]"
   ]
  },
  {
   "cell_type": "code",
   "execution_count": 43,
   "metadata": {
    "scrolled": true
   },
   "outputs": [
    {
     "data": {
      "text/plain": [
       "50497"
      ]
     },
     "execution_count": 43,
     "metadata": {},
     "output_type": "execute_result"
    }
   ],
   "source": [
    "max_len = np.max([book.shape[0] for book in books_data])\n",
    "max_len"
   ]
  },
  {
   "cell_type": "markdown",
   "metadata": {},
   "source": [
    "### Unify data"
   ]
  },
  {
   "cell_type": "markdown",
   "metadata": {},
   "source": [
    "stretch sequences to the length of the longest sequence:"
   ]
  },
  {
   "cell_type": "code",
   "execution_count": 44,
   "metadata": {
    "collapsed": true
   },
   "outputs": [],
   "source": [
    "from random import sample\n",
    "\n",
    "def stretch(max_len, arr):\n",
    "    \"\"\"\n",
    "    Stretches an array to the max_len by\n",
    "    inserting mean of neighbours enough times\n",
    "    \"\"\"\n",
    "    diff = max_len-len(arr)\n",
    "    inds = np.random.choice(len(arr)-1, diff, replace=True)\n",
    "    inds.sort()\n",
    "    inds = np.flip(inds, 0)\n",
    "    for i in inds:\n",
    "        ins_value = (arr[i] + arr[i+1]) / 2\n",
    "        arr = np.concatenate((arr[:i+1], [ins_value], arr[i+1:]))\n",
    "    return arr\n",
    "        "
   ]
  },
  {
   "cell_type": "code",
   "execution_count": 45,
   "metadata": {
    "collapsed": true
   },
   "outputs": [],
   "source": [
    "books_data = np.array([stretch(max_len, i) for i in books_data])"
   ]
  },
  {
   "cell_type": "code",
   "execution_count": 46,
   "metadata": {},
   "outputs": [
    {
     "data": {
      "text/plain": [
       "array([50497])"
      ]
     },
     "execution_count": 46,
     "metadata": {},
     "output_type": "execute_result"
    }
   ],
   "source": [
    "np.unique([len(book) for book in books_data])"
   ]
  },
  {
   "cell_type": "markdown",
   "metadata": {},
   "source": [
    "### Data processing"
   ]
  },
  {
   "cell_type": "markdown",
   "metadata": {},
   "source": [
    "__smooth data:__"
   ]
  },
  {
   "cell_type": "code",
   "execution_count": 91,
   "metadata": {
    "scrolled": true
   },
   "outputs": [
    {
     "data": {
      "text/html": [
       "<div>\n",
       "<style>\n",
       "    .dataframe thead tr:only-child th {\n",
       "        text-align: right;\n",
       "    }\n",
       "\n",
       "    .dataframe thead th {\n",
       "        text-align: left;\n",
       "    }\n",
       "\n",
       "    .dataframe tbody tr th {\n",
       "        vertical-align: top;\n",
       "    }\n",
       "</style>\n",
       "<table border=\"1\" class=\"dataframe\">\n",
       "  <thead>\n",
       "    <tr style=\"text-align: right;\">\n",
       "      <th></th>\n",
       "      <th>31 - Unknown.txt</th>\n",
       "      <th>Of Mice and Men - John Steinbeck.txt</th>\n",
       "      <th>16 - Unknown.txt</th>\n",
       "      <th>2 - Unknown.txt</th>\n",
       "      <th>The Thirty-nine Steps - John Buchan.txt</th>\n",
       "      <th>10 - Unknown.txt</th>\n",
       "      <th>Harry Potter and the Half-Blood - J.K. Rowling.txt</th>\n",
       "      <th>Brave New World - Aldous Leonard Huxley.txt</th>\n",
       "      <th>Harry Potter and the Prisoner o - J.K. Rowling.txt</th>\n",
       "      <th>The Count of Monte Cristo - Alexandre Dumas.txt</th>\n",
       "      <th>...</th>\n",
       "      <th>1 - Unknown.txt</th>\n",
       "      <th>8 - Unknown.txt</th>\n",
       "      <th>War and Peace - Unknown.txt</th>\n",
       "      <th>Andrzej Sapkowski The Last Wish - DragonAshe.txt</th>\n",
       "      <th>Harry Potter and the Goblet of - J.K. Rowling.txt</th>\n",
       "      <th>12 - Unknown.txt</th>\n",
       "      <th>The Last of the Mohicans - James Fenimore Cooper.txt</th>\n",
       "      <th>Great Expectations - Charles Dickens.txt</th>\n",
       "      <th>6 - Unknown.txt</th>\n",
       "      <th>The Moonstone - Wilkie Collins.txt</th>\n",
       "    </tr>\n",
       "  </thead>\n",
       "  <tbody>\n",
       "    <tr>\n",
       "      <th>0</th>\n",
       "      <td>-0.013747</td>\n",
       "      <td>0.967933</td>\n",
       "      <td>-0.309830</td>\n",
       "      <td>0.351988</td>\n",
       "      <td>0.533422</td>\n",
       "      <td>-0.958134</td>\n",
       "      <td>-0.357152</td>\n",
       "      <td>0.395219</td>\n",
       "      <td>-0.357152</td>\n",
       "      <td>0.542270</td>\n",
       "      <td>...</td>\n",
       "      <td>-0.805963</td>\n",
       "      <td>0.974695</td>\n",
       "      <td>0.437460</td>\n",
       "      <td>0.255282</td>\n",
       "      <td>-0.357152</td>\n",
       "      <td>-0.794399</td>\n",
       "      <td>0.351413</td>\n",
       "      <td>0.962781</td>\n",
       "      <td>0.132070</td>\n",
       "      <td>0.254699</td>\n",
       "    </tr>\n",
       "    <tr>\n",
       "      <th>1</th>\n",
       "      <td>0.011163</td>\n",
       "      <td>0.964488</td>\n",
       "      <td>-0.111968</td>\n",
       "      <td>0.351988</td>\n",
       "      <td>0.533422</td>\n",
       "      <td>-0.697127</td>\n",
       "      <td>-0.135629</td>\n",
       "      <td>0.394011</td>\n",
       "      <td>0.085895</td>\n",
       "      <td>0.314082</td>\n",
       "      <td>...</td>\n",
       "      <td>-0.792028</td>\n",
       "      <td>0.946920</td>\n",
       "      <td>0.261677</td>\n",
       "      <td>0.249988</td>\n",
       "      <td>-0.135629</td>\n",
       "      <td>-0.794399</td>\n",
       "      <td>0.351153</td>\n",
       "      <td>0.743559</td>\n",
       "      <td>0.131348</td>\n",
       "      <td>0.212498</td>\n",
       "    </tr>\n",
       "    <tr>\n",
       "      <th>2</th>\n",
       "      <td>0.036074</td>\n",
       "      <td>0.961043</td>\n",
       "      <td>0.085895</td>\n",
       "      <td>0.351988</td>\n",
       "      <td>0.533421</td>\n",
       "      <td>-0.436120</td>\n",
       "      <td>0.085895</td>\n",
       "      <td>0.392803</td>\n",
       "      <td>0.034936</td>\n",
       "      <td>0.085895</td>\n",
       "      <td>...</td>\n",
       "      <td>-0.778092</td>\n",
       "      <td>0.919145</td>\n",
       "      <td>0.085895</td>\n",
       "      <td>0.244695</td>\n",
       "      <td>0.085895</td>\n",
       "      <td>-0.794399</td>\n",
       "      <td>0.350894</td>\n",
       "      <td>0.524338</td>\n",
       "      <td>0.130627</td>\n",
       "      <td>0.170297</td>\n",
       "    </tr>\n",
       "    <tr>\n",
       "      <th>3</th>\n",
       "      <td>0.085895</td>\n",
       "      <td>0.954152</td>\n",
       "      <td>0.006279</td>\n",
       "      <td>0.351988</td>\n",
       "      <td>0.533420</td>\n",
       "      <td>0.085895</td>\n",
       "      <td>0.084399</td>\n",
       "      <td>0.390386</td>\n",
       "      <td>-0.016023</td>\n",
       "      <td>-0.902707</td>\n",
       "      <td>...</td>\n",
       "      <td>-0.750222</td>\n",
       "      <td>0.863595</td>\n",
       "      <td>0.986441</td>\n",
       "      <td>0.234108</td>\n",
       "      <td>0.350076</td>\n",
       "      <td>-0.794399</td>\n",
       "      <td>0.350376</td>\n",
       "      <td>0.085895</td>\n",
       "      <td>0.129184</td>\n",
       "      <td>0.085895</td>\n",
       "    </tr>\n",
       "    <tr>\n",
       "      <th>4</th>\n",
       "      <td>-0.406265</td>\n",
       "      <td>0.940370</td>\n",
       "      <td>-0.073336</td>\n",
       "      <td>0.351988</td>\n",
       "      <td>0.533419</td>\n",
       "      <td>0.006279</td>\n",
       "      <td>0.082902</td>\n",
       "      <td>0.385553</td>\n",
       "      <td>0.079983</td>\n",
       "      <td>-0.655557</td>\n",
       "      <td>...</td>\n",
       "      <td>-0.694481</td>\n",
       "      <td>0.752495</td>\n",
       "      <td>-0.853602</td>\n",
       "      <td>0.212935</td>\n",
       "      <td>0.614257</td>\n",
       "      <td>-0.794399</td>\n",
       "      <td>0.349338</td>\n",
       "      <td>0.030962</td>\n",
       "      <td>0.126298</td>\n",
       "      <td>0.167157</td>\n",
       "    </tr>\n",
       "  </tbody>\n",
       "</table>\n",
       "<p>5 rows × 129 columns</p>\n",
       "</div>"
      ],
      "text/plain": [
       "   31 - Unknown.txt  Of Mice and Men - John Steinbeck.txt  16 - Unknown.txt  \\\n",
       "0         -0.013747                              0.967933         -0.309830   \n",
       "1          0.011163                              0.964488         -0.111968   \n",
       "2          0.036074                              0.961043          0.085895   \n",
       "3          0.085895                              0.954152          0.006279   \n",
       "4         -0.406265                              0.940370         -0.073336   \n",
       "\n",
       "   2 - Unknown.txt  The Thirty-nine Steps - John Buchan.txt  10 - Unknown.txt  \\\n",
       "0         0.351988                                 0.533422         -0.958134   \n",
       "1         0.351988                                 0.533422         -0.697127   \n",
       "2         0.351988                                 0.533421         -0.436120   \n",
       "3         0.351988                                 0.533420          0.085895   \n",
       "4         0.351988                                 0.533419          0.006279   \n",
       "\n",
       "   Harry Potter and the Half-Blood - J.K. Rowling.txt  \\\n",
       "0                                          -0.357152    \n",
       "1                                          -0.135629    \n",
       "2                                           0.085895    \n",
       "3                                           0.084399    \n",
       "4                                           0.082902    \n",
       "\n",
       "   Brave New World - Aldous Leonard Huxley.txt  \\\n",
       "0                                     0.395219   \n",
       "1                                     0.394011   \n",
       "2                                     0.392803   \n",
       "3                                     0.390386   \n",
       "4                                     0.385553   \n",
       "\n",
       "   Harry Potter and the Prisoner o - J.K. Rowling.txt  \\\n",
       "0                                          -0.357152    \n",
       "1                                           0.085895    \n",
       "2                                           0.034936    \n",
       "3                                          -0.016023    \n",
       "4                                           0.079983    \n",
       "\n",
       "   The Count of Monte Cristo - Alexandre Dumas.txt  \\\n",
       "0                                         0.542270   \n",
       "1                                         0.314082   \n",
       "2                                         0.085895   \n",
       "3                                        -0.902707   \n",
       "4                                        -0.655557   \n",
       "\n",
       "                  ...                  1 - Unknown.txt  8 - Unknown.txt  \\\n",
       "0                 ...                        -0.805963         0.974695   \n",
       "1                 ...                        -0.792028         0.946920   \n",
       "2                 ...                        -0.778092         0.919145   \n",
       "3                 ...                        -0.750222         0.863595   \n",
       "4                 ...                        -0.694481         0.752495   \n",
       "\n",
       "   War and Peace - Unknown.txt  \\\n",
       "0                     0.437460   \n",
       "1                     0.261677   \n",
       "2                     0.085895   \n",
       "3                     0.986441   \n",
       "4                    -0.853602   \n",
       "\n",
       "   Andrzej Sapkowski The Last Wish - DragonAshe.txt  \\\n",
       "0                                          0.255282   \n",
       "1                                          0.249988   \n",
       "2                                          0.244695   \n",
       "3                                          0.234108   \n",
       "4                                          0.212935   \n",
       "\n",
       "   Harry Potter and the Goblet of - J.K. Rowling.txt  12 - Unknown.txt  \\\n",
       "0                                          -0.357152         -0.794399   \n",
       "1                                          -0.135629         -0.794399   \n",
       "2                                           0.085895         -0.794399   \n",
       "3                                           0.350076         -0.794399   \n",
       "4                                           0.614257         -0.794399   \n",
       "\n",
       "   The Last of the Mohicans - James Fenimore Cooper.txt  \\\n",
       "0                                           0.351413      \n",
       "1                                           0.351153      \n",
       "2                                           0.350894      \n",
       "3                                           0.350376      \n",
       "4                                           0.349338      \n",
       "\n",
       "   Great Expectations - Charles Dickens.txt  6 - Unknown.txt  \\\n",
       "0                                  0.962781         0.132070   \n",
       "1                                  0.743559         0.131348   \n",
       "2                                  0.524338         0.130627   \n",
       "3                                  0.085895         0.129184   \n",
       "4                                  0.030962         0.126298   \n",
       "\n",
       "   The Moonstone - Wilkie Collins.txt  \n",
       "0                            0.254699  \n",
       "1                            0.212498  \n",
       "2                            0.170297  \n",
       "3                            0.085895  \n",
       "4                            0.167157  \n",
       "\n",
       "[5 rows x 129 columns]"
      ]
     },
     "execution_count": 91,
     "metadata": {},
     "output_type": "execute_result"
    }
   ],
   "source": [
    "books_data = pd.DataFrame(data=books_data.T, columns=onlyfiles)\n",
    "books_data.head()"
   ]
  },
  {
   "cell_type": "code",
   "execution_count": 48,
   "metadata": {},
   "outputs": [
    {
     "data": {
      "image/png": "[encoded data removed]",
      "text/plain": [
       "<matplotlib.figure.Figure at 0x7f456ad90518>"
      ]
     },
     "metadata": {},
     "output_type": "display_data"
    }
   ],
   "source": [
    "books_data['A Game Of Thrones - George R. R. Martin.txt'].plot()\n",
    "plt.show()"
   ]
  },
  {
   "cell_type": "code",
   "execution_count": 49,
   "metadata": {},
   "outputs": [
    {
     "data": {
      "image/png": "[encoded data removed]",
      "text/plain": [
       "<matplotlib.figure.Figure at 0x7f454ea37b70>"
      ]
     },
     "metadata": {},
     "output_type": "display_data"
    }
   ],
   "source": [
    "books_data['A Game Of Thrones - George R. R. Martin.txt'].rolling(2000).sum().plot()\n",
    "plt.show()"
   ]
  },
  {
   "cell_type": "code",
   "execution_count": 65,
   "metadata": {},
   "outputs": [
    {
     "data": {
      "image/png": "[encoded data removed]",
      "text/plain": [
       "<matplotlib.figure.Figure at 0x7f454e8b8a20>"
      ]
     },
     "metadata": {},
     "output_type": "display_data"
    }
   ],
   "source": [
    "books_data['A Game Of Thrones - George R. R. Martin.txt'].rolling(2000).sum().rolling(2000).sum().plot()\n",
    "plt.show()"
   ]
  },
  {
   "cell_type": "code",
   "execution_count": 114,
   "metadata": {},
   "outputs": [],
   "source": [
    "smoothed_books = pd.DataFrame()\n",
    "for book in onlyfiles:\n",
    "    smoothed_books[book] = books_data[book].rolling(2000).sum().rolling(2000).sum().rolling(2000).sum()\n",
    "smoothed_books = smoothed_books[6000:]"
   ]
  },
  {
   "cell_type": "code",
   "execution_count": 59,
   "metadata": {},
   "outputs": [
    {
     "data": {
      "text/html": [
       "<div>\n",
       "<style>\n",
       "    .dataframe thead tr:only-child th {\n",
       "        text-align: right;\n",
       "    }\n",
       "\n",
       "    .dataframe thead th {\n",
       "        text-align: left;\n",
       "    }\n",
       "\n",
       "    .dataframe tbody tr th {\n",
       "        vertical-align: top;\n",
       "    }\n",
       "</style>\n",
       "<table border=\"1\" class=\"dataframe\">\n",
       "  <thead>\n",
       "    <tr style=\"text-align: right;\">\n",
       "      <th></th>\n",
       "      <th>31 - Unknown.txt</th>\n",
       "      <th>Of Mice and Men - John Steinbeck.txt</th>\n",
       "      <th>16 - Unknown.txt</th>\n",
       "      <th>2 - Unknown.txt</th>\n",
       "      <th>The Thirty-nine Steps - John Buchan.txt</th>\n",
       "      <th>10 - Unknown.txt</th>\n",
       "      <th>Harry Potter and the Half-Blood - J.K. Rowling.txt</th>\n",
       "      <th>Brave New World - Aldous Leonard Huxley.txt</th>\n",
       "      <th>Harry Potter and the Prisoner o - J.K. Rowling.txt</th>\n",
       "      <th>The Count of Monte Cristo - Alexandre Dumas.txt</th>\n",
       "      <th>...</th>\n",
       "      <th>1 - Unknown.txt</th>\n",
       "      <th>8 - Unknown.txt</th>\n",
       "      <th>War and Peace - Unknown.txt</th>\n",
       "      <th>Andrzej Sapkowski The Last Wish - DragonAshe.txt</th>\n",
       "      <th>Harry Potter and the Goblet of - J.K. Rowling.txt</th>\n",
       "      <th>12 - Unknown.txt</th>\n",
       "      <th>The Last of the Mohicans - James Fenimore Cooper.txt</th>\n",
       "      <th>Great Expectations - Charles Dickens.txt</th>\n",
       "      <th>6 - Unknown.txt</th>\n",
       "      <th>The Moonstone - Wilkie Collins.txt</th>\n",
       "    </tr>\n",
       "  </thead>\n",
       "  <tbody>\n",
       "    <tr>\n",
       "      <th>6000</th>\n",
       "      <td>-2.501362e+09</td>\n",
       "      <td>-2.410058e+09</td>\n",
       "      <td>-3.229944e+09</td>\n",
       "      <td>-4.286033e+09</td>\n",
       "      <td>-2.947000e+09</td>\n",
       "      <td>-2.340015e+09</td>\n",
       "      <td>-2.538040e+09</td>\n",
       "      <td>-1.194467e+09</td>\n",
       "      <td>-2.296615e+09</td>\n",
       "      <td>-3.419700e+09</td>\n",
       "      <td>...</td>\n",
       "      <td>-2.868478e+09</td>\n",
       "      <td>-3.957191e+09</td>\n",
       "      <td>-2.160507e+09</td>\n",
       "      <td>-2.900443e+09</td>\n",
       "      <td>-2.607345e+09</td>\n",
       "      <td>-4.738056e+09</td>\n",
       "      <td>-4.137355e+09</td>\n",
       "      <td>-4.315588e+09</td>\n",
       "      <td>-2.350515e+09</td>\n",
       "      <td>-3.362640e+09</td>\n",
       "    </tr>\n",
       "    <tr>\n",
       "      <th>6001</th>\n",
       "      <td>-2.501050e+09</td>\n",
       "      <td>-2.410432e+09</td>\n",
       "      <td>-3.230199e+09</td>\n",
       "      <td>-4.285725e+09</td>\n",
       "      <td>-2.947274e+09</td>\n",
       "      <td>-2.340015e+09</td>\n",
       "      <td>-2.537783e+09</td>\n",
       "      <td>-1.194412e+09</td>\n",
       "      <td>-2.296663e+09</td>\n",
       "      <td>-3.419490e+09</td>\n",
       "      <td>...</td>\n",
       "      <td>-2.868473e+09</td>\n",
       "      <td>-3.957449e+09</td>\n",
       "      <td>-2.160564e+09</td>\n",
       "      <td>-2.900705e+09</td>\n",
       "      <td>-2.607182e+09</td>\n",
       "      <td>-4.738941e+09</td>\n",
       "      <td>-4.137366e+09</td>\n",
       "      <td>-4.315556e+09</td>\n",
       "      <td>-2.350640e+09</td>\n",
       "      <td>-3.362944e+09</td>\n",
       "    </tr>\n",
       "    <tr>\n",
       "      <th>6002</th>\n",
       "      <td>-2.500737e+09</td>\n",
       "      <td>-2.410805e+09</td>\n",
       "      <td>-3.230454e+09</td>\n",
       "      <td>-4.285416e+09</td>\n",
       "      <td>-2.947548e+09</td>\n",
       "      <td>-2.340014e+09</td>\n",
       "      <td>-2.537526e+09</td>\n",
       "      <td>-1.194357e+09</td>\n",
       "      <td>-2.296711e+09</td>\n",
       "      <td>-3.419280e+09</td>\n",
       "      <td>...</td>\n",
       "      <td>-2.868468e+09</td>\n",
       "      <td>-3.957708e+09</td>\n",
       "      <td>-2.160621e+09</td>\n",
       "      <td>-2.900968e+09</td>\n",
       "      <td>-2.607018e+09</td>\n",
       "      <td>-4.739826e+09</td>\n",
       "      <td>-4.137377e+09</td>\n",
       "      <td>-4.315524e+09</td>\n",
       "      <td>-2.350765e+09</td>\n",
       "      <td>-3.363247e+09</td>\n",
       "    </tr>\n",
       "    <tr>\n",
       "      <th>6003</th>\n",
       "      <td>-2.500425e+09</td>\n",
       "      <td>-2.411179e+09</td>\n",
       "      <td>-3.230708e+09</td>\n",
       "      <td>-4.285107e+09</td>\n",
       "      <td>-2.947823e+09</td>\n",
       "      <td>-2.340014e+09</td>\n",
       "      <td>-2.537269e+09</td>\n",
       "      <td>-1.194302e+09</td>\n",
       "      <td>-2.296759e+09</td>\n",
       "      <td>-3.419070e+09</td>\n",
       "      <td>...</td>\n",
       "      <td>-2.868465e+09</td>\n",
       "      <td>-3.957965e+09</td>\n",
       "      <td>-2.160677e+09</td>\n",
       "      <td>-2.901230e+09</td>\n",
       "      <td>-2.606855e+09</td>\n",
       "      <td>-4.740710e+09</td>\n",
       "      <td>-4.137389e+09</td>\n",
       "      <td>-4.315491e+09</td>\n",
       "      <td>-2.350890e+09</td>\n",
       "      <td>-3.363551e+09</td>\n",
       "    </tr>\n",
       "    <tr>\n",
       "      <th>6004</th>\n",
       "      <td>-2.500112e+09</td>\n",
       "      <td>-2.411552e+09</td>\n",
       "      <td>-3.230962e+09</td>\n",
       "      <td>-4.284799e+09</td>\n",
       "      <td>-2.948097e+09</td>\n",
       "      <td>-2.340014e+09</td>\n",
       "      <td>-2.537013e+09</td>\n",
       "      <td>-1.194245e+09</td>\n",
       "      <td>-2.296807e+09</td>\n",
       "      <td>-3.418861e+09</td>\n",
       "      <td>...</td>\n",
       "      <td>-2.868463e+09</td>\n",
       "      <td>-3.958222e+09</td>\n",
       "      <td>-2.160733e+09</td>\n",
       "      <td>-2.901492e+09</td>\n",
       "      <td>-2.606691e+09</td>\n",
       "      <td>-4.741594e+09</td>\n",
       "      <td>-4.137402e+09</td>\n",
       "      <td>-4.315458e+09</td>\n",
       "      <td>-2.351015e+09</td>\n",
       "      <td>-3.363854e+09</td>\n",
       "    </tr>\n",
       "  </tbody>\n",
       "</table>\n",
       "<p>5 rows × 129 columns</p>\n",
       "</div>"
      ],
      "text/plain": [
       "      31 - Unknown.txt  Of Mice and Men - John Steinbeck.txt  \\\n",
       "6000     -2.501362e+09                         -2.410058e+09   \n",
       "6001     -2.501050e+09                         -2.410432e+09   \n",
       "6002     -2.500737e+09                         -2.410805e+09   \n",
       "6003     -2.500425e+09                         -2.411179e+09   \n",
       "6004     -2.500112e+09                         -2.411552e+09   \n",
       "\n",
       "      16 - Unknown.txt  2 - Unknown.txt  \\\n",
       "6000     -3.229944e+09    -4.286033e+09   \n",
       "6001     -3.230199e+09    -4.285725e+09   \n",
       "6002     -3.230454e+09    -4.285416e+09   \n",
       "6003     -3.230708e+09    -4.285107e+09   \n",
       "6004     -3.230962e+09    -4.284799e+09   \n",
       "\n",
       "      The Thirty-nine Steps - John Buchan.txt  10 - Unknown.txt  \\\n",
       "6000                            -2.947000e+09     -2.340015e+09   \n",
       "6001                            -2.947274e+09     -2.340015e+09   \n",
       "6002                            -2.947548e+09     -2.340014e+09   \n",
       "6003                            -2.947823e+09     -2.340014e+09   \n",
       "6004                            -2.948097e+09     -2.340014e+09   \n",
       "\n",
       "      Harry Potter and the Half-Blood - J.K. Rowling.txt  \\\n",
       "6000                                      -2.538040e+09    \n",
       "6001                                      -2.537783e+09    \n",
       "6002                                      -2.537526e+09    \n",
       "6003                                      -2.537269e+09    \n",
       "6004                                      -2.537013e+09    \n",
       "\n",
       "      Brave New World - Aldous Leonard Huxley.txt  \\\n",
       "6000                                -1.194467e+09   \n",
       "6001                                -1.194412e+09   \n",
       "6002                                -1.194357e+09   \n",
       "6003                                -1.194302e+09   \n",
       "6004                                -1.194245e+09   \n",
       "\n",
       "      Harry Potter and the Prisoner o - J.K. Rowling.txt  \\\n",
       "6000                                      -2.296615e+09    \n",
       "6001                                      -2.296663e+09    \n",
       "6002                                      -2.296711e+09    \n",
       "6003                                      -2.296759e+09    \n",
       "6004                                      -2.296807e+09    \n",
       "\n",
       "      The Count of Monte Cristo - Alexandre Dumas.txt  \\\n",
       "6000                                    -3.419700e+09   \n",
       "6001                                    -3.419490e+09   \n",
       "6002                                    -3.419280e+09   \n",
       "6003                                    -3.419070e+09   \n",
       "6004                                    -3.418861e+09   \n",
       "\n",
       "                     ...                  1 - Unknown.txt  8 - Unknown.txt  \\\n",
       "6000                 ...                    -2.868478e+09    -3.957191e+09   \n",
       "6001                 ...                    -2.868473e+09    -3.957449e+09   \n",
       "6002                 ...                    -2.868468e+09    -3.957708e+09   \n",
       "6003                 ...                    -2.868465e+09    -3.957965e+09   \n",
       "6004                 ...                    -2.868463e+09    -3.958222e+09   \n",
       "\n",
       "      War and Peace - Unknown.txt  \\\n",
       "6000                -2.160507e+09   \n",
       "6001                -2.160564e+09   \n",
       "6002                -2.160621e+09   \n",
       "6003                -2.160677e+09   \n",
       "6004                -2.160733e+09   \n",
       "\n",
       "      Andrzej Sapkowski The Last Wish - DragonAshe.txt  \\\n",
       "6000                                     -2.900443e+09   \n",
       "6001                                     -2.900705e+09   \n",
       "6002                                     -2.900968e+09   \n",
       "6003                                     -2.901230e+09   \n",
       "6004                                     -2.901492e+09   \n",
       "\n",
       "      Harry Potter and the Goblet of - J.K. Rowling.txt  12 - Unknown.txt  \\\n",
       "6000                                      -2.607345e+09     -4.738056e+09   \n",
       "6001                                      -2.607182e+09     -4.738941e+09   \n",
       "6002                                      -2.607018e+09     -4.739826e+09   \n",
       "6003                                      -2.606855e+09     -4.740710e+09   \n",
       "6004                                      -2.606691e+09     -4.741594e+09   \n",
       "\n",
       "      The Last of the Mohicans - James Fenimore Cooper.txt  \\\n",
       "6000                                      -4.137355e+09      \n",
       "6001                                      -4.137366e+09      \n",
       "6002                                      -4.137377e+09      \n",
       "6003                                      -4.137389e+09      \n",
       "6004                                      -4.137402e+09      \n",
       "\n",
       "      Great Expectations - Charles Dickens.txt  6 - Unknown.txt  \\\n",
       "6000                             -4.315588e+09    -2.350515e+09   \n",
       "6001                             -4.315556e+09    -2.350640e+09   \n",
       "6002                             -4.315524e+09    -2.350765e+09   \n",
       "6003                             -4.315491e+09    -2.350890e+09   \n",
       "6004                             -4.315458e+09    -2.351015e+09   \n",
       "\n",
       "      The Moonstone - Wilkie Collins.txt  \n",
       "6000                       -3.362640e+09  \n",
       "6001                       -3.362944e+09  \n",
       "6002                       -3.363247e+09  \n",
       "6003                       -3.363551e+09  \n",
       "6004                       -3.363854e+09  \n",
       "\n",
       "[5 rows x 129 columns]"
      ]
     },
     "execution_count": 59,
     "metadata": {},
     "output_type": "execute_result"
    }
   ],
   "source": [
    "smoothed_books.head()"
   ]
  },
  {
   "cell_type": "code",
   "execution_count": 104,
   "metadata": {},
   "outputs": [
    {
     "data": {
      "image/png": "[encoded data removed]",
      "text/plain": [
       "<matplotlib.figure.Figure at 0x7f454d571668>"
      ]
     },
     "metadata": {},
     "output_type": "display_data"
    }
   ],
   "source": [
    "smoothed_books['Harry Potter and the Half-Blood - J.K. Rowling.txt'].plot()\n",
    "plt.show()"
   ]
  },
  {
   "cell_type": "code",
   "execution_count": 115,
   "metadata": {},
   "outputs": [],
   "source": [
    "train_books_data = smoothed_books.values.T"
   ]
  },
  {
   "cell_type": "markdown",
   "metadata": {},
   "source": [
    "__shrink data__"
   ]
  },
  {
   "cell_type": "code",
   "execution_count": 105,
   "metadata": {},
   "outputs": [
    {
     "data": {
      "text/plain": [
       "(129, 2000)"
      ]
     },
     "execution_count": 105,
     "metadata": {},
     "output_type": "execute_result"
    }
   ],
   "source": [
    "shrinked_books = []\n",
    "for book in smoothed_books.values.T:\n",
    "    shrinked_books.append(np.array([np.mean(arr) for arr in np.array_split(book, 2000)]))\n",
    "shrinked_books = np.array(shrinked_books)\n",
    "shrinked_books.shape"
   ]
  },
  {
   "cell_type": "code",
   "execution_count": 106,
   "metadata": {
    "collapsed": true
   },
   "outputs": [],
   "source": [
    "train_books_data = shrinked_books"
   ]
  },
  {
   "cell_type": "markdown",
   "metadata": {},
   "source": [
    "# Clustering"
   ]
  },
  {
   "cell_type": "code",
   "execution_count": 107,
   "metadata": {},
   "outputs": [],
   "source": [
    "from sklearn.cluster import DBSCAN, KMeans"
   ]
  },
  {
   "cell_type": "code",
   "execution_count": 108,
   "metadata": {},
   "outputs": [
    {
     "data": {
      "text/plain": [
       "(129, 2000)"
      ]
     },
     "execution_count": 108,
     "metadata": {},
     "output_type": "execute_result"
    }
   ],
   "source": [
    "train_books_data.shape"
   ]
  },
  {
   "cell_type": "markdown",
   "metadata": {},
   "source": [
    "### K-means"
   ]
  },
  {
   "cell_type": "markdown",
   "metadata": {},
   "source": [
    "#### elbow method to determine K:"
   ]
  },
  {
   "cell_type": "code",
   "execution_count": 116,
   "metadata": {},
   "outputs": [
    {
     "data": {
      "image/png": "[encoded data removed]",
      "text/plain": [
       "<matplotlib.figure.Figure at 0x7f454e36e4e0>"
      ]
     },
     "metadata": {},
     "output_type": "display_data"
    }
   ],
   "source": [
    "from sklearn import metrics\n",
    "from scipy.spatial.distance import cdist\n",
    "import matplotlib.pyplot as plt\n",
    "\n",
    "# k means determine k\n",
    "distortions = []\n",
    "K = range(1,20)\n",
    "for k in K:\n",
    "    kmeanModel = KMeans(n_clusters=k).fit(train_books_data)\n",
    "    kmeanModel.fit(train_books_data)\n",
    "    distortions.append(sum(np.min(cdist(train_books_data, kmeanModel.cluster_centers_, 'euclidean'), axis=1)) / train_books_data.shape[0])\n",
    "\n",
    "# Plot the elbow\n",
    "plt.plot(K, distortions, 'bx-')\n",
    "plt.xlabel('k')\n",
    "plt.ylabel('Distortion')\n",
    "plt.title('The Elbow Method showing the optimal k')\n",
    "plt.show()"
   ]
  },
  {
   "cell_type": "markdown",
   "metadata": {},
   "source": [
    "#### Cluster:"
   ]
  },
  {
   "cell_type": "code",
   "execution_count": 122,
   "metadata": {},
   "outputs": [
    {
     "data": {
      "text/plain": [
       "array([1, 8, 2, 7, 4, 1, 1, 5, 1, 0, 1, 8, 1, 1, 5, 8, 3, 1, 1, 8, 1, 0,\n",
       "       7, 1, 1, 1, 4, 8, 2, 1, 2, 7, 2, 8, 0, 3, 8, 8, 8, 4, 0, 3, 8, 8,\n",
       "       4, 3, 3, 5, 0, 4, 0, 1, 4, 2, 0, 4, 8, 1, 8, 1, 4, 7, 2, 8, 4, 7,\n",
       "       1, 0, 1, 4, 4, 4, 2, 1, 8, 0, 3, 4, 0, 2, 0, 4, 0, 8, 2, 0, 4, 8,\n",
       "       2, 3, 4, 0, 4, 0, 2, 7, 8, 1, 4, 8, 3, 2, 0, 2, 2, 4, 4, 2, 8, 4,\n",
       "       2, 7, 8, 1, 2, 2, 4, 6, 2, 7, 0, 8, 8, 1, 7, 0, 0, 8, 0],\n",
       "      dtype=int32)"
      ]
     },
     "execution_count": 122,
     "metadata": {},
     "output_type": "execute_result"
    }
   ],
   "source": [
    "kmeans = KMeans(n_clusters=9, random_state=0, ).fit(train_books_data)\n",
    "kmeans_pred = kmeans.predict(train_books_data)\n",
    "kmeans_pred"
   ]
  },
  {
   "cell_type": "code",
   "execution_count": 123,
   "metadata": {},
   "outputs": [
    {
     "data": {
      "text/plain": [
       "array([[-3.55822532e+09, -3.55837084e+09, -3.55851638e+09, ...,\n",
       "        -3.90332902e+09, -3.90328049e+09, -3.90323184e+09],\n",
       "       [-2.07172499e+09, -2.07162854e+09, -2.07153215e+09, ...,\n",
       "        -1.98562905e+09, -1.98547594e+09, -1.98532285e+09],\n",
       "       [-3.22431602e+09, -3.22437400e+09, -3.22443179e+09, ...,\n",
       "        -2.95338313e+09, -2.95328108e+09, -2.95317904e+09],\n",
       "       ...,\n",
       "       [-2.62304554e+09, -2.62301224e+09, -2.62297828e+09, ...,\n",
       "        -6.59034651e+09, -6.59038510e+09, -6.59042345e+09],\n",
       "       [-3.88831527e+09, -3.88836708e+09, -3.88841884e+09, ...,\n",
       "        -4.73316343e+09, -4.73305413e+09, -4.73294479e+09],\n",
       "       [-2.59774830e+09, -2.59781525e+09, -2.59788215e+09, ...,\n",
       "        -2.51387643e+09, -2.51379863e+09, -2.51372082e+09]])"
      ]
     },
     "execution_count": 123,
     "metadata": {},
     "output_type": "execute_result"
    }
   ],
   "source": [
    "kmeans.cluster_centers_"
   ]
  },
  {
   "cell_type": "markdown",
   "metadata": {},
   "source": [
    "#### visualize with T-SNE"
   ]
  },
  {
   "cell_type": "code",
   "execution_count": 124,
   "metadata": {
    "collapsed": true
   },
   "outputs": [],
   "source": [
    "from sklearn.manifold import TSNE"
   ]
  },
  {
   "cell_type": "code",
   "execution_count": 125,
   "metadata": {},
   "outputs": [
    {
     "data": {
      "image/png": "[encoded data removed]",
      "text/plain": [
       "<matplotlib.figure.Figure at 0x7f454e32f0f0>"
      ]
     },
     "metadata": {},
     "output_type": "display_data"
    }
   ],
   "source": [
    "tsne = TSNE(n_components=2, n_iter = 300, random_state=0)\n",
    "books_tsne = tsne.fit_transform(train_books_data)\n",
    "# books_tsne = np.array([i for i in books_tsne if i[0]<50 and i[1]<50])\n",
    "# kmeans_pred = np.array([i for i,j in zip(kmeans_pred, books_tsne) if j[0]<50 and j[1]<50])\n",
    "plt.figure(figsize=(20,10))\n",
    "plt.scatter(books_tsne[:,0], books_tsne[:,1], s=12, c=kmeans_pred);\n",
    "plt.show()"
   ]
  },
  {
   "cell_type": "code",
   "execution_count": 126,
   "metadata": {},
   "outputs": [
    {
     "name": "stdout",
     "output_type": "stream",
     "text": [
      "=========CLUSTER 0\n",
      "['The Count of Monte Cristo - Alexandre Dumas.txt', '21 - Unknown.txt', '20 - Unknown.txt', 'The Return of Sherlock Holmes - Arthur Conan Doyle.txt', '4 - Unknown.txt', '22 - Unknown.txt', 'Memoirs of Sherlock Holmes - SIR ARTHUR CONAN DOYLE.txt', '19 - e-booksdirectory.com.txt', 'Twenty Thousand Leagues Under t - Jules Verne.txt', 'Pinocchio - Carlo Collodi.txt', 'Tales of Terror and Mystery - SIR ARTHUR CONAN DOYLE.txt', 'The Wind in the Willows - Kenneth Grahame.txt', \"Grimm's Fairy Stories - Unknown.txt\", 'Nostromo - Joseph Conrad.txt', 'Dracula - Unknown.txt', 'The Lost World - SIR ARTHUR CONAN DOYLE.txt', '8 - Unknown.txt', 'The Last of the Mohicans - James Fenimore Cooper.txt', 'Great Expectations - Charles Dickens.txt', 'The Moonstone - Wilkie Collins.txt']\n",
      "=========CLUSTER 1\n",
      "['31 - Unknown.txt', '10 - Unknown.txt', 'Harry Potter and the Half-Blood - J.K. Rowling.txt', 'Harry Potter and the Prisoner o - J.K. Rowling.txt', 'A Feast For Crows - George R. R. Martin.txt', \"Harry Potter and the Sorcerer's - J.K. Rowling.txt\", 'Harry Potter and the Chamber of - J.K. Rowling.txt', 'Ulysses - James Joyce.txt', '08 Season of Storms (2013) - Stephen Hulin [Kinetic IT].txt', 'A Game Of Thrones - George R. R. Martin.txt', 'Anna Karenina - Leo Tolstoy.txt', '04 Times of Contempt (1995) - Stephen.txt', '07 The Lady of the Lake (1999) - Stephen Hulin.txt', 'The Great Gatsby - F. Scott Fitzgerald.txt', '33 - Unknown.txt', 'Harry Potter and the Deathly Ha - J.K. Rowling.txt', 'A Clash of Kings - George R. R. Martin.txt', 'Harry Potter and the Order of t - J.K. Rowling.txt', '06 The Tower of the Swallow (19 - Dominik.txt', 'The Wonderful Wizard of Oz - L. Frank Baum.txt', '05 Baptism of Fire (1996) - Rebecca Nettleship.txt', 'A Storm of Swords - George R. R. Martin.txt', 'Harry Potter and the Goblet of - J.K. Rowling.txt']\n",
      "=========CLUSTER 2\n",
      "['16 - Unknown.txt', '9 - Unknown.txt', 'none - e-booksdirectory.com.txt', 'The Phantom of the Opera - Gaston Leroux.txt', 'Caliban;s war e-2 - James S.A. Corey.txt', '7 - Unknown.txt', 'Jane Eyre - e-booksdirectory.com.txt', 'Vanity Fair - William Makepeace Thackeray.txt', 'Dubliners - James Joyce.txt', 'Persuasion (Norton Critical Edi - Jane Austen.txt', 'Alice in Wonderland - Lewis Carroll.txt', 'CHAPTER ONE - user.txt', '35 - Unknown.txt', 'Microsoft Word - Good Night.doc - jiwo.txt', 'THE CATCHER IN THE RYE - Jeff Marsden.txt', 'Eugenie Grandet - Honore de Balzac.txt', '29 - Unknown.txt', 'Wuthering Heights - Unknown.txt', 'Madame Bovary - Gustave Flaubert.txt']\n",
      "=========CLUSTER 3\n",
      "['32 - Unknown.txt', 'Metamorphosis - Franz Kafka.txt', 'Memoirs of Fanny Hill - John Cleland.txt', 'Notes from the Underground - Fyodor Dostoyevsky.txt', 'The Strange Case of Dr. Jekyll - Robert Louis Stevenson.txt', '25 - Unknown.txt', 'The Call of the Wild - Jack London.txt', 'Grabriel Garcna M - lAi.txt']\n",
      "=========CLUSTER 4\n",
      "['The Thirty-nine Steps - John Buchan.txt', 'The Turn of the Screw - Henry James.txt', '28 - Unknown.txt', 'The Da Vinci Code - Unknown.txt', 'Discworld 01 - The Colour of Ma - Norton.txt', '27 - Unknown.txt', 'Harry Potter and the Methods of - Eliezer Yudkowsky.txt', 'ADVENTURES OF TOM SAWYER - Twain.txt', \"TESS OF THE D'URBERVILLES - Thomas Hardy.txt\", '18 - Unknown.txt', 'The Scarlet Letter - Nathaniel Hawthorne.txt', 'none - Unknown.txt', 'Watership Down.rtf - Darcy.txt', '15 - Unknown.txt', '5 - Unknown.txt', 'HUCKLEBERRY FINN - Mark Twain.txt', 'Leviathan Wakes e-1 - James S.A. Corey.txt', '26 - Unknown.txt', 'Les Misrables - Victor Hugo.txt', '11 - Unknown.txt', 'Leviathan Wakes - James S.A. Corey.txt', '34 - Unknown.txt']\n"
     ]
    }
   ],
   "source": [
    "clusters = [[name for name,l in zip(onlyfiles,kmeans_pred) if l==label] for label in [0,1,2,3,4]]\n",
    "for label in [0,1,2,3,4]:\n",
    "    print('=========CLUSTER ' + str(label))\n",
    "    print(clusters[label])"
   ]
  },
  {
   "cell_type": "markdown",
   "metadata": {},
   "source": [
    "#### Evaluation"
   ]
  },
  {
   "cell_type": "code",
   "execution_count": 20,
   "metadata": {
    "collapsed": true
   },
   "outputs": [],
   "source": [
    "from sklearn.metrics import davies_bouldin_score, silhouette_samples, silhouette_score"
   ]
  },
  {
   "cell_type": "markdown",
   "metadata": {
    "collapsed": true
   },
   "source": [
    "* DBi\n",
    "\n",
    "The DB index captures the intuition that clusters that are (1) well-spaced from each other and (2) themselves very dense are likely a ‘good’ clustering. This is because the measure’s ‘max’ statement repeatedly selects the values where the average point is farthest away from its centroid, and where the centroids are closest together. As the DB index shrinks, the clustering is considered ‘better’."
   ]
  },
  {
   "cell_type": "code",
   "execution_count": 19,
   "metadata": {},
   "outputs": [
    {
     "data": {
      "text/plain": [
       "0.6748956409482508"
      ]
     },
     "execution_count": 19,
     "metadata": {},
     "output_type": "execute_result"
    }
   ],
   "source": [
    "davies_bouldin_score(train_books_data, kmeans_pred)"
   ]
  },
  {
   "cell_type": "markdown",
   "metadata": {},
   "source": [
    "* Silhouette Coefficient\n",
    "\n",
    "The Silhouette Coefficient tells us how well-assigned each individual point is. If S(i) is close to 0, it is right at the inflection point between two clusters. If it is closer to -1, then we would have been better off assigning it to the other cluster. If S(i) is close to 1, then the point is well-assigned and can be interpreted as belonging to an ‘appropriate’ cluster.\n",
    "\n",
    "The Silhouette Coefficient is a measure of how well samples are clustered with samples that are similar to themselves. Clustering models with a high Silhouette Coefficient are said to be dense, where samples in the same cluster are similar to each other, and well separated, where samples in different clusters are not very similar to each other.\n",
    "\n",
    "The Silhouette Coefficient is calculated using the mean intra-cluster distance (a) and the mean nearest-cluster distance (b) for each sample. The Silhouette Coefficient for a sample is (b - a) / max(a, b). Note that Silhouette Coefficient is only defined if number of labels is 2 <= n_labels <= n_samples - 1.\n",
    "\n",
    "The best value is 1 and the worst value is -1. Values near 0 indicate overlapping clusters."
   ]
  },
  {
   "cell_type": "code",
   "execution_count": 21,
   "metadata": {},
   "outputs": [
    {
     "data": {
      "text/plain": [
       "0.017241841"
      ]
     },
     "execution_count": 21,
     "metadata": {},
     "output_type": "execute_result"
    }
   ],
   "source": [
    "silhouette_score(train_books_data, kmeans_pred)"
   ]
  },
  {
   "cell_type": "code",
   "execution_count": 23,
   "metadata": {},
   "outputs": [
    {
     "data": {
      "text/plain": [
       "array([0.03451678, 0.03517154, 0.        , 0.01652089, 0.        ],\n",
       "      dtype=float32)"
      ]
     },
     "execution_count": 23,
     "metadata": {},
     "output_type": "execute_result"
    }
   ],
   "source": [
    "silhouette_samples(train_books_data, kmeans_pred)"
   ]
  },
  {
   "cell_type": "code",
   "execution_count": null,
   "metadata": {
    "collapsed": true
   },
   "outputs": [],
   "source": []
  },
  {
   "cell_type": "code",
   "execution_count": null,
   "metadata": {
    "collapsed": true
   },
   "outputs": [],
   "source": []
  },
  {
   "cell_type": "code",
   "execution_count": null,
   "metadata": {
    "collapsed": true
   },
   "outputs": [],
   "source": []
  },
  {
   "cell_type": "markdown",
   "metadata": {},
   "source": [
    "### DBSCAN"
   ]
  },
  {
   "cell_type": "markdown",
   "metadata": {},
   "source": [
    "#### Cluster:"
   ]
  },
  {
   "cell_type": "code",
   "execution_count": 257,
   "metadata": {
    "collapsed": true
   },
   "outputs": [],
   "source": [
    "dbscan = DBSCAN(eps=3, min_samples=2).fit(train_books_data)"
   ]
  },
  {
   "cell_type": "code",
   "execution_count": 258,
   "metadata": {},
   "outputs": [
    {
     "data": {
      "text/plain": [
       "array([-1, -1, -1, -1, -1])"
      ]
     },
     "execution_count": 258,
     "metadata": {},
     "output_type": "execute_result"
    }
   ],
   "source": [
    "dbscan.labels_"
   ]
  },
  {
   "cell_type": "markdown",
   "metadata": {},
   "source": [
    "#### Evaluation"
   ]
  },
  {
   "cell_type": "code",
   "execution_count": null,
   "metadata": {
    "collapsed": true
   },
   "outputs": [],
   "source": []
  },
  {
   "cell_type": "code",
   "execution_count": null,
   "metadata": {
    "collapsed": true
   },
   "outputs": [],
   "source": []
  },
  {
   "cell_type": "code",
   "execution_count": null,
   "metadata": {
    "collapsed": true
   },
   "outputs": [],
   "source": []
  },
  {
   "cell_type": "markdown",
   "metadata": {},
   "source": [
    "# Models comparison & conclusions"
   ]
  },
  {
   "cell_type": "markdown",
   "metadata": {
    "collapsed": true
   },
   "source": []
  },
  {
   "cell_type": "code",
   "execution_count": null,
   "metadata": {
    "collapsed": true
   },
   "outputs": [],
   "source": []
  },
  {
   "cell_type": "code",
   "execution_count": null,
   "metadata": {
    "collapsed": true
   },
   "outputs": [],
   "source": []
  },
  {
   "cell_type": "code",
   "execution_count": null,
   "metadata": {
    "collapsed": true
   },
   "outputs": [],
   "source": []
  }
 ],
 "metadata": {
  "kernelspec": {
   "display_name": "Python 3",
   "language": "python",
   "name": "python3"
  },
  "language_info": {
   "codemirror_mode": {
    "name": "ipython",
    "version": 3
   },
   "file_extension": ".py",
   "mimetype": "text/x-python",
   "name": "python",
   "nbconvert_exporter": "python",
   "pygments_lexer": "ipython3",
   "version": "3.6.3"
  }
 },
 "nbformat": 4,
 "nbformat_minor": 2
}
