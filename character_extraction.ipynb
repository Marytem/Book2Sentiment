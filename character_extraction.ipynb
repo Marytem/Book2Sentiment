{
 "cells": [
  {
   "cell_type": "markdown",
   "metadata": {},
   "source": [
    "# Character extraction for GoT book"
   ]
  },
  {
   "cell_type": "code",
   "execution_count": 29,
   "metadata": {
    "collapsed": true
   },
   "outputs": [],
   "source": [
    "import numpy as np\n",
    "import pandas as pd\n",
    "import nltk\n",
    "from collections import Counter\n",
    "import matplotlib.pyplot as plt"
   ]
  },
  {
   "cell_type": "markdown",
   "metadata": {},
   "source": [
    "## Character extraction with nltk"
   ]
  },
  {
   "cell_type": "markdown",
   "metadata": {},
   "source": [
    "#### preprocess"
   ]
  },
  {
   "cell_type": "code",
   "execution_count": 30,
   "metadata": {
    "collapsed": true
   },
   "outputs": [],
   "source": [
    "def load_and_prep_nltk(path):\n",
    "    \"\"\"\n",
    "    loads a book from specified location \n",
    "    removes punctuation and stopwords\n",
    "    then applies tokenization and POS-tagging\n",
    "    all with nltk\n",
    "    \"\"\"\n",
    "    with open(path, 'r') as f:\n",
    "        book = f.read()\n",
    "#     book = nltk.tokenize.word_tokenize(book)\n",
    "    \n",
    "    tokenizer = nltk.RegexpTokenizer(r'\\w+')\n",
    "    book = tokenizer.tokenize(book)\n",
    "    \n",
    "    stop_words = set(nltk.corpus.stopwords.words('english'))\n",
    "    book = [word for word in book if word not in stop_words]   \n",
    "    \n",
    "    book = nltk.pos_tag(book)\n",
    "    return book"
   ]
  },
  {
   "cell_type": "code",
   "execution_count": 31,
   "metadata": {
    "scrolled": true
   },
   "outputs": [
    {
     "data": {
      "text/plain": [
       "[('A', 'DT'),\n",
       " ('Game', 'NNP'),\n",
       " ('Thrones', 'NNP'),\n",
       " ('A', 'NNP'),\n",
       " ('Bantam', 'NNP'),\n",
       " ('Spectra', 'NNP'),\n",
       " ('Book', 'NNP'),\n",
       " ('SPECTRA', 'NNP'),\n",
       " ('portrayal', 'NN'),\n",
       " ('boxed', 'VBD'),\n",
       " ('trademarks', 'NNS'),\n",
       " ('Bantam', 'NNP'),\n",
       " ('Books', 'NNP'),\n",
       " ('division', 'NN'),\n",
       " ('Random', 'NNP'),\n",
       " ('House', 'NNP'),\n",
       " ('Inc', 'NNP'),\n",
       " ('PUBLISHING', 'NNP'),\n",
       " ('HISTORY', 'NNP'),\n",
       " ('Bantam', 'NNP'),\n",
       " ('hardcover', 'NN'),\n",
       " ('edition', 'NN'),\n",
       " ('published', 'VBN'),\n",
       " ('September', 'NNP'),\n",
       " ('1996', 'CD'),\n",
       " ('Bantam', 'NNP'),\n",
       " ('paperback', 'NN'),\n",
       " ('edition', 'NN'),\n",
       " ('September', 'NNP'),\n",
       " ('1997', 'CD'),\n",
       " ('Maps', 'NNP'),\n",
       " ('James', 'NNP'),\n",
       " ('Sinclair', 'NNP'),\n",
       " ('Heraldic', 'NNP'),\n",
       " ('crests', 'VBZ'),\n",
       " ('Virginia', 'NNP'),\n",
       " ('Norey', 'NNP'),\n",
       " ('All', 'NNP'),\n",
       " ('rights', 'NNS'),\n",
       " ('reserved', 'VBD')]"
      ]
     },
     "execution_count": 31,
     "metadata": {},
     "output_type": "execute_result"
    }
   ],
   "source": [
    "book = load_and_prep_nltk('data/GameOfThrones/A Game Of Thrones - George R. R. Martin.txt')\n",
    "book[:40]"
   ]
  },
  {
   "cell_type": "markdown",
   "metadata": {},
   "source": [
    "#### extract characters"
   ]
  },
  {
   "cell_type": "markdown",
   "metadata": {},
   "source": [
    "Extract proper nouns and count them to compare later with NER-nltk\n"
   ]
  },
  {
   "cell_type": "code",
   "execution_count": 32,
   "metadata": {
    "scrolled": true
   },
   "outputs": [
    {
     "data": {
      "text/plain": [
       "[(('Ser', 'NNP'), 953),\n",
       " (('Lord', 'NNP'), 926),\n",
       " (('Jon', 'NNP'), 820),\n",
       " (('Ned', 'NNP'), 783),\n",
       " (('Tyrion', 'NNP'), 564),\n",
       " (('Bran', 'NNP'), 539),\n",
       " (('Catelyn', 'NNP'), 484),\n",
       " (('Arya', 'NNP'), 453),\n",
       " (('Sansa', 'NNP'), 413),\n",
       " (('Robert', 'NNP'), 406),\n",
       " (('Robb', 'NNP'), 405),\n",
       " (('Dany', 'NNP'), 403),\n",
       " (('Stark', 'NNP'), 396),\n",
       " (('A', 'NNP'), 362),\n",
       " (('Lannister', 'NNP'), 345),\n",
       " (('Maester', 'NNP'), 255),\n",
       " (('Winterfell', 'NNP'), 242),\n",
       " (('My', 'NNP'), 241),\n",
       " (('King', 'NNP'), 232),\n",
       " (('Joffrey', 'NNP'), 228)]"
      ]
     },
     "execution_count": 32,
     "metadata": {},
     "output_type": "execute_result"
    }
   ],
   "source": [
    "NNPs = [word for word in book if word[1]=='NNP']\n",
    "Counter(NNPs).most_common(20)"
   ]
  },
  {
   "cell_type": "code",
   "execution_count": 33,
   "metadata": {
    "collapsed": true
   },
   "outputs": [],
   "source": [
    "def char_extraction_nltk(preprocessed, n):\n",
    "    \"\"\"\n",
    "    extract entities from preprocessed text\n",
    "    select entities labeled as people and return\n",
    "    counts of n most frequent people mentioned \n",
    "    \"\"\"\n",
    "    preprocessed = nltk.ne_chunk(preprocessed)\n",
    "    entities = preprocessed.pos()\n",
    "    characters = [ent[0][0] for ent in entities if ent[1]=='PERSON']\n",
    "    nltk_chars = Counter(characters).most_common(n)\n",
    "    return nltk_chars"
   ]
  },
  {
   "cell_type": "code",
   "execution_count": 34,
   "metadata": {},
   "outputs": [
    {
     "data": {
      "text/plain": [
       "[('Ser', 903),\n",
       " ('Jon', 737),\n",
       " ('Lord', 734),\n",
       " ('Ned', 564),\n",
       " ('Tyrion', 483),\n",
       " ('Bran', 481),\n",
       " ('Robert', 400),\n",
       " ('Catelyn', 400),\n",
       " ('Arya', 390),\n",
       " ('Dany', 374),\n",
       " ('Sansa', 366),\n",
       " ('Robb', 362),\n",
       " ('Stark', 333),\n",
       " ('Lannister', 235),\n",
       " ('Maester', 212),\n",
       " ('Drogo', 189),\n",
       " ('Joffrey', 187),\n",
       " ('Lady', 163),\n",
       " ('Jorah', 161),\n",
       " ('Eddard', 156),\n",
       " ('Luwin', 135),\n",
       " ('Tywin', 131),\n",
       " ('Khal', 123),\n",
       " ('Arryn', 122),\n",
       " ('Rodrik', 120),\n",
       " ('Mormont', 118),\n",
       " ('Bronn', 116),\n",
       " ('Lysa', 113),\n",
       " ('Varys', 102),\n",
       " ('Cersei', 99),\n",
       " ('Littlefinger', 99),\n",
       " ('Viserys', 97),\n",
       " ('Jaime', 96),\n",
       " ('Father', 89),\n",
       " ('Watch', 88),\n",
       " ('Dothraki', 84),\n",
       " ('Pycelle', 81),\n",
       " ('Will', 79),\n",
       " ('Jory', 79),\n",
       " ('Night', 77)]"
      ]
     },
     "execution_count": 34,
     "metadata": {},
     "output_type": "execute_result"
    }
   ],
   "source": [
    "nltk_chars = char_extraction_nltk(book, 40)\n",
    "nltk_chars"
   ]
  },
  {
   "cell_type": "markdown",
   "metadata": {
    "collapsed": true
   },
   "source": [
    "## Character extraction with Spacy"
   ]
  },
  {
   "cell_type": "markdown",
   "metadata": {},
   "source": [
    "#### preprocess"
   ]
  },
  {
   "cell_type": "code",
   "execution_count": 48,
   "metadata": {
    "collapsed": true
   },
   "outputs": [],
   "source": [
    "import spacy\n",
    "import en_core_web_sm"
   ]
  },
  {
   "cell_type": "code",
   "execution_count": 49,
   "metadata": {
    "collapsed": true
   },
   "outputs": [],
   "source": [
    "def load_and_prep_spacy(path):\n",
    "    \"\"\"\n",
    "    loads a book from specified location \n",
    "    removes stopwords\n",
    "    then transforms book to Spacy's 'doc' format\n",
    "    \"\"\"\n",
    "    with open(path, 'r') as f:\n",
    "        book = f.read().replace('\\n', '')\n",
    "    \n",
    "    nlp = en_core_web_sm.load()\n",
    "    nlp.max_length = 2_000_000\n",
    "    for w in ['’s', '’m']:\n",
    "        nlp.vocab[w].is_stop = True\n",
    "    return nlp(book)"
   ]
  },
  {
   "cell_type": "code",
   "execution_count": 50,
   "metadata": {},
   "outputs": [
    {
     "data": {
      "text/plain": [
       "(Bantam Books,\n",
       " Random House,\n",
       " Inc,\n",
       " September 1996Bantam,\n",
       " James Sinclair,\n",
       " Virginia Norey,\n",
       " 1996,\n",
       " George R. R. MartinLibrary,\n",
       " Congress,\n",
       " 95,\n",
       " Bantam Books,\n",
       " 978,\n",
       " Bantam Books,\n",
       " Random House,\n",
       " Bantam Books,\n",
       " U.S. Patent and Trademark Office,\n",
       " Marca Registrada,\n",
       " Bantam Books,\n",
       " 1540,\n",
       " Broadway,\n",
       " New York,\n",
       " New York,\n",
       " 10036.v3.1_r2this one,\n",
       " Gared,\n",
       " Waymar Royce,\n",
       " fifty,\n",
       " Gared,\n",
       " Eight days,\n",
       " nine,\n",
       " Waymar Royce,\n",
       " Gared’s,\n",
       " forty years,\n",
       " the Night’s Watch,\n",
       " four years,\n",
       " first,\n",
       " hundred,\n",
       " tonight,\n",
       " tonight,\n",
       " Nine days,\n",
       " Wildling)"
      ]
     },
     "execution_count": 50,
     "metadata": {},
     "output_type": "execute_result"
    }
   ],
   "source": [
    "book = load_and_prep_spacy('data/GameOfThrones/A Game Of Thrones - George R. R. Martin.txt')\n",
    "book.ents[:40]"
   ]
  },
  {
   "cell_type": "markdown",
   "metadata": {},
   "source": [
    "#### extract characters"
   ]
  },
  {
   "cell_type": "code",
   "execution_count": 51,
   "metadata": {
    "collapsed": true
   },
   "outputs": [],
   "source": [
    "def char_extraction_spacy(preprocessed, n):\n",
    "    \"\"\"\n",
    "    extract entities from preprocessed text\n",
    "    select entities labeled as people and return\n",
    "    counts of n most frequent people mentioned \n",
    "    \"\"\"\n",
    "    characters = [ent.text for ent in preprocessed.ents if ent.label_=='PERSON']\n",
    "    spacy_chars = Counter(characters).most_common(n)\n",
    "    return spacy_chars"
   ]
  },
  {
   "cell_type": "code",
   "execution_count": 52,
   "metadata": {},
   "outputs": [
    {
     "data": {
      "text/plain": [
       "[('Ned', 622),\n",
       " ('Jon', 559),\n",
       " ('Catelyn', 369),\n",
       " ('Arya', 344),\n",
       " ('Robb', 300),\n",
       " ('Robert', 286),\n",
       " ('Sansa', 210),\n",
       " ('Joffrey', 181),\n",
       " ('Dany', 180),\n",
       " ('Dothraki', 121),\n",
       " ('Stark', 120),\n",
       " ('’m', 115),\n",
       " ('Luwin', 107),\n",
       " ('Ser Jorah', 97),\n",
       " ('Mormont', 93),\n",
       " ('Littlefinger', 84),\n",
       " ('Ser Rodrik', 83),\n",
       " ('Eyrie', 70),\n",
       " ('Sam', 68),\n",
       " ('Jaime', 65),\n",
       " ('Hand', 63),\n",
       " ('Grace', 62),\n",
       " ('Eddard Stark', 53),\n",
       " ('Aemon', 47),\n",
       " ('Khal Drogo', 47),\n",
       " ('Grenn', 46),\n",
       " ('Starks', 45),\n",
       " ('Jon Arryn', 45),\n",
       " ('Septa Mordane', 45),\n",
       " ('Hodor', 45),\n",
       " ('Kingsguard', 44),\n",
       " ('Rickon', 43),\n",
       " ('’s', 43),\n",
       " ('Mirri Maz Duur', 42),\n",
       " ('Robert’s', 41),\n",
       " ('Bronn', 41),\n",
       " ('Jon Snow', 40),\n",
       " ('Tywin', 38),\n",
       " ('Lady', 37),\n",
       " ('Summer', 35)]"
      ]
     },
     "execution_count": 52,
     "metadata": {},
     "output_type": "execute_result"
    }
   ],
   "source": [
    "spacy_chars = char_extraction_spacy(book, 40)\n",
    "spacy_chars"
   ]
  },
  {
   "cell_type": "markdown",
   "metadata": {
    "collapsed": true
   },
   "source": [
    "## Comparison & conclusions"
   ]
  },
  {
   "cell_type": "markdown",
   "metadata": {
    "collapsed": true
   },
   "source": [
    "From what we can see NLTK extracts only three types of entities, and makes lots of mistakes labeling 'Night' or 'Watch' as people. It's entities consist of one word, which creates lots of duplicates or half-truths. \n",
    "\n",
    "Spacy does better job, it extracts more kinds of entities than nltk. It still has some false positives like \"'m\" or \"'s\" that are parts of mentioning a character in the text(eg. \"Tywin 's\"), but other than that all characters seem to be properly extracted with their full names like 'Ser Jorah' or 'Eddard Stark'."
   ]
  },
  {
   "cell_type": "code",
   "execution_count": 53,
   "metadata": {
    "collapsed": true
   },
   "outputs": [],
   "source": [
    "def visualize(chars, title):\n",
    "    height = [char[1] for char in chars]\n",
    "    bars = [char[0] for char in chars]\n",
    "    y_pos = np.arange(len(bars))\n",
    "\n",
    "    plt.title(title)\n",
    "    plt.barh(y_pos, height, color=(0.2, 0.4, 0.6, 0.6))\n",
    "    plt.yticks(y_pos, bars)\n",
    "    plt.show()\n"
   ]
  },
  {
   "cell_type": "code",
   "execution_count": 54,
   "metadata": {},
   "outputs": [
    {
     "data": {
      "image/png": "[encoded data removed]",
      "text/plain": [
       "<matplotlib.figure.Figure at 0x7f2e9151e3c8>"
      ]
     },
     "metadata": {},
     "output_type": "display_data"
    },
    {
     "data": {
      "image/png": "[encoded data removed]",
      "text/plain": [
       "<matplotlib.figure.Figure at 0x7f2e918d96a0>"
      ]
     },
     "metadata": {},
     "output_type": "display_data"
    }
   ],
   "source": [
    "visualize(nltk_chars[:20], 'Name counts with NLTK')\n",
    "visualize(spacy_chars[:20], 'Name counts with Spacy')"
   ]
  },
  {
   "cell_type": "markdown",
   "metadata": {},
   "source": [
    "### Let's try other books:"
   ]
  },
  {
   "cell_type": "code",
   "execution_count": 55,
   "metadata": {},
   "outputs": [
    {
     "name": "stdout",
     "output_type": "stream",
     "text": [
      "Harry Potter and Deathly hallows\n"
     ]
    },
    {
     "data": {
      "image/png": "[encoded data removed]",
      "text/plain": [
       "<matplotlib.figure.Figure at 0x7f2e8e2b9f60>"
      ]
     },
     "metadata": {},
     "output_type": "display_data"
    },
    {
     "data": {
      "image/png": "[encoded data removed]",
      "text/plain": [
       "<matplotlib.figure.Figure at 0x7f2e919008d0>"
      ]
     },
     "metadata": {},
     "output_type": "display_data"
    }
   ],
   "source": [
    "print(\"Harry Potter and Deathly hallows\")\n",
    "\n",
    "path = 'data/books/Harry Potter and the Deathly Ha - J.K. Rowling.txt'\n",
    "preprocessed = load_and_prep_nltk(path)\n",
    "visualize(char_extraction_nltk(preprocessed, 20), 'Name counts with NLTK')\n",
    "\n",
    "preprocessed = load_and_prep_spacy(path)\n",
    "visualize(char_extraction_spacy(preprocessed, 20), 'Name counts with Spacy')"
   ]
  },
  {
   "cell_type": "code",
   "execution_count": 73,
   "metadata": {},
   "outputs": [
    {
     "name": "stdout",
     "output_type": "stream",
     "text": [
      "Andrzej Sapkowski - Blood of Elves\n"
     ]
    },
    {
     "data": {
      "image/png": "[encoded data removed]",
      "text/plain": [
       "<matplotlib.figure.Figure at 0x7f53964470f0>"
      ]
     },
     "metadata": {},
     "output_type": "display_data"
    },
    {
     "data": {
      "image/png": "[encoded data removed]",
      "text/plain": [
       "<matplotlib.figure.Figure at 0x7f5388911b38>"
      ]
     },
     "metadata": {},
     "output_type": "display_data"
    }
   ],
   "source": [
    "print(\"Andrzej Sapkowski - Blood of Elves\")\n",
    "\n",
    "path = 'data/books/Andrzej Sapkowski - Blood of El - DragonAshe.txt'\n",
    "preprocessed = load_and_prep_nltk(path)\n",
    "visualize(char_extraction_nltk(preprocessed, 20), 'Name counts with NLTK')\n",
    "\n",
    "preprocessed = load_and_prep_spacy(path)\n",
    "visualize(char_extraction_spacy(preprocessed, 20), 'Name counts with Spacy')"
   ]
  },
  {
   "cell_type": "code",
   "execution_count": null,
   "metadata": {
    "collapsed": true
   },
   "outputs": [],
   "source": []
  }
 ],
 "metadata": {
  "kernelspec": {
   "display_name": "Python 3",
   "language": "python",
   "name": "python3"
  },
  "language_info": {
   "codemirror_mode": {
    "name": "ipython",
    "version": 3
   },
   "file_extension": ".py",
   "mimetype": "text/x-python",
   "name": "python",
   "nbconvert_exporter": "python",
   "pygments_lexer": "ipython3",
   "version": "3.6.3"
  }
 },
 "nbformat": 4,
 "nbformat_minor": 2
}
